{
 "cells": [
  {
   "cell_type": "markdown",
   "metadata": {},
   "source": [
    "# CSE475 Project, Due: Monday, 05/02/2022"
   ]
  },
  {
   "cell_type": "markdown",
   "metadata": {},
   "source": [
    "## Instruction\n",
    "\n",
    "1. Please submit your Jupyter Notebook file (the. ipynb file) containing your code and the outputs produced by your code (note that .ipynb file can contain both the code and the outputs) to Canvas. Please name your file CSE475-Project-LastName-FirstName.ipynb.\n",
    "\n",
    "2. If you have any questions on the homework problems, you should post your question on the Canvas discussion board (under Project Q&A), instead of sending emails to the instructor or TA. We will answer your questions there. In this way, we can avoid repeated questions, and help the entire class stay on the same page whenever any clarification/correction is made."
   ]
  },
  {
   "cell_type": "markdown",
   "metadata": {},
   "source": [
    "## Handwritten Image Classifiation with Keras using MNIST and Fashion MNIST data\n",
    "\n",
    "In this project, we will work with image data, the famous MNIST and Fashion MNIST data sets.  MNIST data set contains 70,000 images of handwritten digits (0-9) in grayscale (0=black, 255 = white). Fashion MNIST data set contains 70,000 images of clothing in grayscale (0=black, 255 = white). All the images are 28 pixels by 28 pixels for a total of 784 pixels. This is quite small by image standards. Also, the images are well centered and isolated. <br><br>\n",
    "We will use a Convolutional Neural Network and compare it with a linear neural network. "
   ]
  },
  {
   "cell_type": "markdown",
   "metadata": {},
   "source": [
    "### In the first part of this project, we will walk you through loading the data, building a neural network, and training it.  Then it will be your turn to work on different models."
   ]
  },
  {
   "cell_type": "code",
   "execution_count": 1,
   "metadata": {
    "scrolled": true
   },
   "outputs": [
    {
     "name": "stderr",
     "output_type": "stream",
     "text": [
      "2022-05-02 22:40:20.934904: W tensorflow/stream_executor/platform/default/dso_loader.cc:64] Could not load dynamic library 'libcudart.so.11.0'; dlerror: libcudart.so.11.0: cannot open shared object file: No such file or directory\n",
      "2022-05-02 22:40:20.934935: I tensorflow/stream_executor/cuda/cudart_stub.cc:29] Ignore above cudart dlerror if you do not have a GPU set up on your machine.\n"
     ]
    }
   ],
   "source": [
    "# Preliminaries\n",
    "\n",
    "from __future__ import print_function\n",
    "\n",
    "import keras\n",
    "import tensorflow as tensorflow\n",
    "from keras.datasets import mnist\n",
    "from keras.models import Sequential\n",
    "from keras.layers import Dense, Dropout, Conv2D, MaxPooling2D, Flatten\n",
    "from tensorflow.keras.optimizers import RMSprop\n",
    "from keras.datasets import fashion_mnist\n",
    "\n",
    "import numpy as np\n",
    "import matplotlib.pyplot as plt\n",
    "%matplotlib inline"
   ]
  },
  {
   "cell_type": "markdown",
   "metadata": {
    "collapsed": true
   },
   "source": [
    "Let's explore the dataset a little bit"
   ]
  },
  {
   "cell_type": "code",
   "execution_count": 2,
   "metadata": {},
   "outputs": [],
   "source": [
    "# Load the data, shuffled and split between train and test sets\n",
    "(x_train, y_train), (x_test, y_test) = mnist.load_data()"
   ]
  },
  {
   "cell_type": "code",
   "execution_count": 3,
   "metadata": {},
   "outputs": [
    {
     "data": {
      "text/plain": [
       "(60000, 28, 28)"
      ]
     },
     "execution_count": 3,
     "metadata": {},
     "output_type": "execute_result"
    }
   ],
   "source": [
    "x_train.shape"
   ]
  },
  {
   "cell_type": "markdown",
   "metadata": {},
   "source": [
    "Let's just look at a particular example to see what is inside"
   ]
  },
  {
   "cell_type": "code",
   "execution_count": 4,
   "metadata": {},
   "outputs": [
    {
     "data": {
      "text/plain": [
       "array([[  0,   0,   0,   0,   0,   0,   0,   0,   0,   0,   0,   0,   0,\n",
       "          0,   0,   0,   0,   0,   0,   0,   0,   0,   0,   0,   0,   0,\n",
       "          0,   0],\n",
       "       [  0,   0,   0,   0,   0,   0,   0,   0,   0,   0,   0,   0,   0,\n",
       "          0,   0,   0,   0,   0,   0,   0,   0,   0,   0,   0,   0,   0,\n",
       "          0,   0],\n",
       "       [  0,   0,   0,   0,   0,   0,   0,   0,   0,   0,   0,   0,   0,\n",
       "          0,   0,   0,   0,   0,   0,   0,   0,   0,   0,   0,   0,   0,\n",
       "          0,   0],\n",
       "       [  0,   0,   0,   0,   0,   0,   0,   0,   0,   0,   0,   0,   0,\n",
       "          0,   0,   0,   0,   0,   0,   0,   0,   0,   0,   0,   0,   0,\n",
       "          0,   0],\n",
       "       [  0,   0,   0,   0,   0,   0,   0,   0,   0,   0,   0,   0,   0,\n",
       "          0,   0,   0,   0,   0,   0,   0,   0,   0,   0,   0,   0,   0,\n",
       "          0,   0],\n",
       "       [  0,   0,   0,   0,   0,   0,   0,   0,   0,   0,   0,  87, 138,\n",
       "        170, 253, 201, 244, 212, 222, 138,  86,  22,   0,   0,   0,   0,\n",
       "          0,   0],\n",
       "       [  0,   0,   0,   0,   0,   0,   0,   0,   0,   0,  95, 253, 252,\n",
       "        252, 252, 252, 253, 252, 252, 252, 252, 245,  80,   0,   0,   0,\n",
       "          0,   0],\n",
       "       [  0,   0,   0,   0,   0,   0,   0,   0,   0,  68, 246, 205,  69,\n",
       "         69,  69,  69,  69,  69,  69,  69, 205, 253, 240,  50,   0,   0,\n",
       "          0,   0],\n",
       "       [  0,   0,   0,   0,   0,   0,   0,   0,   0, 187, 252, 218,  34,\n",
       "          0,   0,   0,   0,   0,   0,   0, 116, 253, 252,  69,   0,   0,\n",
       "          0,   0],\n",
       "       [  0,   0,   0,   0,   0,   0,   0,   0, 116, 248, 252, 253,  92,\n",
       "          0,   0,   0,   0,   0,   0,  95, 230, 253, 157,   6,   0,   0,\n",
       "          0,   0],\n",
       "       [  0,   0,   0,   0,   0,   0,   0,   0, 116, 249, 253, 189,  42,\n",
       "          0,   0,   0,   0,  36, 170, 253, 243, 158,   0,   0,   0,   0,\n",
       "          0,   0],\n",
       "       [  0,   0,   0,   0,   0,   0,   0,   0,   0, 133, 252, 245, 140,\n",
       "         34,   0,   0,  57, 219, 252, 235,  60,   0,   0,   0,   0,   0,\n",
       "          0,   0],\n",
       "       [  0,   0,   0,   0,   0,   0,   0,   0,   0,  25, 205, 253, 252,\n",
       "        234, 184, 184, 253, 240, 100,  44,   0,   0,   0,   0,   0,   0,\n",
       "          0,   0],\n",
       "       [  0,   0,   0,   0,   0,   0,   0,   0,   0,   0,  21, 161, 219,\n",
       "        252, 252, 252, 234,  37,   0,   0,   0,   0,   0,   0,   0,   0,\n",
       "          0,   0],\n",
       "       [  0,   0,   0,   0,   0,   0,   0,   0,   0,   0,   0,  11, 203,\n",
       "        252, 252, 252, 251, 135,   0,   0,   0,   0,   0,   0,   0,   0,\n",
       "          0,   0],\n",
       "       [  0,   0,   0,   0,   0,   0,   0,   0,   0,   9,  76, 255, 253,\n",
       "        205, 168, 220, 255, 253, 137,   5,   0,   0,   0,   0,   0,   0,\n",
       "          0,   0],\n",
       "       [  0,   0,   0,   0,   0,   0,   0,   0,   0, 114, 252, 249, 132,\n",
       "         25,   0,   0, 180, 252, 252,  45,   0,   0,   0,   0,   0,   0,\n",
       "          0,   0],\n",
       "       [  0,   0,   0,   0,   0,   0,   0,   0,  51, 220, 252, 199,   0,\n",
       "          0,   0,   0,  38, 186, 252, 154,   7,   0,   0,   0,   0,   0,\n",
       "          0,   0],\n",
       "       [  0,   0,   0,   0,   0,   0,   0,   0, 184, 252, 252,  21,   0,\n",
       "          0,   0,   0,   0,  67, 252, 252,  22,   0,   0,   0,   0,   0,\n",
       "          0,   0],\n",
       "       [  0,   0,   0,   0,   0,   0,   0,   0, 184, 252, 200,   0,   0,\n",
       "          0,   0,   0,   0,  47, 252, 252,  22,   0,   0,   0,   0,   0,\n",
       "          0,   0],\n",
       "       [  0,   0,   0,   0,   0,   0,   0,   0, 185, 253, 201,   0,   0,\n",
       "          0,   0,   0,   3, 118, 253, 245,  21,   0,   0,   0,   0,   0,\n",
       "          0,   0],\n",
       "       [  0,   0,   0,   0,   0,   0,   0,   0, 163, 252, 252,   0,   0,\n",
       "          0,   0,   0,  97, 252, 252,  87,   0,   0,   0,   0,   0,   0,\n",
       "          0,   0],\n",
       "       [  0,   0,   0,   0,   0,   0,   0,   0,  51, 240, 252, 123,  70,\n",
       "         70, 112, 184, 222, 252, 170,  13,   0,   0,   0,   0,   0,   0,\n",
       "          0,   0],\n",
       "       [  0,   0,   0,   0,   0,   0,   0,   0,   0, 165, 252, 253, 252,\n",
       "        252, 252, 252, 245, 139,  13,   0,   0,   0,   0,   0,   0,   0,\n",
       "          0,   0],\n",
       "       [  0,   0,   0,   0,   0,   0,   0,   0,   0,   9,  75, 253, 252,\n",
       "        221, 137, 137,  21,   0,   0,   0,   0,   0,   0,   0,   0,   0,\n",
       "          0,   0],\n",
       "       [  0,   0,   0,   0,   0,   0,   0,   0,   0,   0,   0,   0,   0,\n",
       "          0,   0,   0,   0,   0,   0,   0,   0,   0,   0,   0,   0,   0,\n",
       "          0,   0],\n",
       "       [  0,   0,   0,   0,   0,   0,   0,   0,   0,   0,   0,   0,   0,\n",
       "          0,   0,   0,   0,   0,   0,   0,   0,   0,   0,   0,   0,   0,\n",
       "          0,   0],\n",
       "       [  0,   0,   0,   0,   0,   0,   0,   0,   0,   0,   0,   0,   0,\n",
       "          0,   0,   0,   0,   0,   0,   0,   0,   0,   0,   0,   0,   0,\n",
       "          0,   0]], dtype=uint8)"
      ]
     },
     "execution_count": 4,
     "metadata": {},
     "output_type": "execute_result"
    }
   ],
   "source": [
    "x_train[333]  ## Just a 28 x 28 numpy array of ints from 0 to 255"
   ]
  },
  {
   "cell_type": "code",
   "execution_count": 5,
   "metadata": {},
   "outputs": [
    {
     "data": {
      "text/plain": [
       "8"
      ]
     },
     "execution_count": 5,
     "metadata": {},
     "output_type": "execute_result"
    }
   ],
   "source": [
    "# What is the corresponding label in the training set?\n",
    "y_train[333]"
   ]
  },
  {
   "cell_type": "code",
   "execution_count": 6,
   "metadata": {},
   "outputs": [
    {
     "data": {
      "text/plain": [
       "<matplotlib.image.AxesImage at 0x7f2105b8ae00>"
      ]
     },
     "execution_count": 6,
     "metadata": {},
     "output_type": "execute_result"
    },
    {
     "data": {
      "image/png": "[encoded data removed]",
      "text/plain": [
       "<Figure size 432x288 with 1 Axes>"
      ]
     },
     "metadata": {
      "needs_background": "light"
     },
     "output_type": "display_data"
    }
   ],
   "source": [
    "# Let's see what this image actually looks like\n",
    "\n",
    "plt.imshow(x_train[333], cmap='Greys_r')"
   ]
  },
  {
   "cell_type": "code",
   "execution_count": 7,
   "metadata": {},
   "outputs": [
    {
     "name": "stdout",
     "output_type": "stream",
     "text": [
      "(60000, 28, 28) train samples\n",
      "(10000, 28, 28) test samples\n"
     ]
    }
   ],
   "source": [
    "# this is the shape of the np.array x_train\n",
    "# it is 3 dimensional.\n",
    "print(x_train.shape, 'train samples')\n",
    "print(x_test.shape, 'test samples')"
   ]
  },
  {
   "cell_type": "code",
   "execution_count": 8,
   "metadata": {},
   "outputs": [],
   "source": [
    "## For our purposes, these images are just a vector of 784 inputs, so let's convert\n",
    "x_train = x_train.reshape(len(x_train), 28*28)\n",
    "x_test = x_test.reshape(len(x_test), 28*28)\n",
    "\n",
    "## Keras works with floats, so we must cast the numbers to floats\n",
    "x_train = x_train.astype('float32')\n",
    "x_test = x_test.astype('float32')\n",
    "\n",
    "## Normalize the inputs so they are between 0 and 1\n",
    "x_train /= 255\n",
    "x_test /= 255\n"
   ]
  },
  {
   "cell_type": "code",
   "execution_count": 9,
   "metadata": {},
   "outputs": [
    {
     "data": {
      "text/plain": [
       "array([0., 0., 0., 0., 0., 0., 0., 0., 1., 0.], dtype=float32)"
      ]
     },
     "execution_count": 9,
     "metadata": {},
     "output_type": "execute_result"
    }
   ],
   "source": [
    "# convert class labels to one-hot vectors\n",
    "num_classes = 10\n",
    "y_train = tensorflow.keras.utils.to_categorical(y_train, num_classes)\n",
    "y_test = tensorflow.keras.utils.to_categorical(y_test, num_classes)\n",
    "\n",
    "y_train[333]  # now the digit k is represented by a 1 in the kth entry (0-indexed) of the length 10 vector"
   ]
  },
  {
   "cell_type": "code",
   "execution_count": 10,
   "metadata": {},
   "outputs": [
    {
     "name": "stderr",
     "output_type": "stream",
     "text": [
      "2022-05-02 22:40:33.989847: W tensorflow/stream_executor/platform/default/dso_loader.cc:64] Could not load dynamic library 'libcuda.so.1'; dlerror: libcuda.so.1: cannot open shared object file: No such file or directory\n",
      "2022-05-02 22:40:33.989944: W tensorflow/stream_executor/cuda/cuda_driver.cc:269] failed call to cuInit: UNKNOWN ERROR (303)\n",
      "2022-05-02 22:40:33.989999: I tensorflow/stream_executor/cuda/cuda_diagnostics.cc:156] kernel driver does not appear to be running on this host (HOOTISTHINKPAD): /proc/driver/nvidia/version does not exist\n",
      "2022-05-02 22:40:33.990656: I tensorflow/core/platform/cpu_feature_guard.cc:151] This TensorFlow binary is optimized with oneAPI Deep Neural Network Library (oneDNN) to use the following CPU instructions in performance-critical operations:  AVX2 FMA\n",
      "To enable them in other operations, rebuild TensorFlow with the appropriate compiler flags.\n"
     ]
    }
   ],
   "source": [
    "# We will build a model with two fully connected layers (using \"Dense\")\n",
    "# We will use dropout of .5 to help regularize\n",
    "model_1 = Sequential()\n",
    "model_1.add(Dense(64, activation='relu', input_shape=(784,)))\n",
    "model_1.add(Dropout(0.5))\n",
    "model_1.add(Dense(64, activation='relu'))\n",
    "model_1.add(Dropout(0.5))\n",
    "model_1.add(Dense(10, activation='softmax'))"
   ]
  },
  {
   "cell_type": "code",
   "execution_count": 11,
   "metadata": {
    "scrolled": true
   },
   "outputs": [
    {
     "name": "stdout",
     "output_type": "stream",
     "text": [
      "Model: \"sequential\"\n",
      "_________________________________________________________________\n",
      " Layer (type)                Output Shape              Param #   \n",
      "=================================================================\n",
      " dense (Dense)               (None, 64)                50240     \n",
      "                                                                 \n",
      " dropout (Dropout)           (None, 64)                0         \n",
      "                                                                 \n",
      " dense_1 (Dense)             (None, 64)                4160      \n",
      "                                                                 \n",
      " dropout_1 (Dropout)         (None, 64)                0         \n",
      "                                                                 \n",
      " dense_2 (Dense)             (None, 10)                650       \n",
      "                                                                 \n",
      "=================================================================\n",
      "Total params: 55,050\n",
      "Trainable params: 55,050\n",
      "Non-trainable params: 0\n",
      "_________________________________________________________________\n"
     ]
    }
   ],
   "source": [
    "## print the summary of the built model. Note that this model has a LOT of parameters\n",
    "model_1.summary()"
   ]
  },
  {
   "cell_type": "code",
   "execution_count": 12,
   "metadata": {},
   "outputs": [
    {
     "name": "stderr",
     "output_type": "stream",
     "text": [
      "/home/davidz1000/.local/lib/python3.10/site-packages/keras/optimizer_v2/rmsprop.py:130: UserWarning: The `lr` argument is deprecated, use `learning_rate` instead.\n",
      "  super(RMSprop, self).__init__(name, **kwargs)\n"
     ]
    }
   ],
   "source": [
    "# Let's compile the model\n",
    "learning_rate = .001\n",
    "model_1.compile(loss='categorical_crossentropy',\n",
    "              optimizer=RMSprop(lr=learning_rate),\n",
    "              metrics=['accuracy'])\n",
    "# note that `categorical cross entropy` is the natural generalization \n",
    "# of the loss function we had in binary classification case to multiclass case"
   ]
  },
  {
   "cell_type": "code",
   "execution_count": 13,
   "metadata": {},
   "outputs": [
    {
     "name": "stdout",
     "output_type": "stream",
     "text": [
      "Epoch 1/30\n"
     ]
    },
    {
     "name": "stderr",
     "output_type": "stream",
     "text": [
      "2022-05-02 22:40:35.264386: W tensorflow/core/framework/cpu_allocator_impl.cc:82] Allocation of 188160000 exceeds 10% of free system memory.\n"
     ]
    },
    {
     "name": "stdout",
     "output_type": "stream",
     "text": [
      "469/469 [==============================] - 4s 7ms/step - loss: 0.8805 - accuracy: 0.7158 - val_loss: 0.2956 - val_accuracy: 0.9122\n",
      "Epoch 2/30\n",
      "469/469 [==============================] - 3s 6ms/step - loss: 0.4845 - accuracy: 0.8576 - val_loss: 0.2300 - val_accuracy: 0.9332\n",
      "Epoch 3/30\n",
      "469/469 [==============================] - 3s 7ms/step - loss: 0.4124 - accuracy: 0.8832 - val_loss: 0.2061 - val_accuracy: 0.9409\n",
      "Epoch 4/30\n",
      "469/469 [==============================] - 3s 6ms/step - loss: 0.3716 - accuracy: 0.8951 - val_loss: 0.1870 - val_accuracy: 0.9458\n",
      "Epoch 5/30\n",
      "469/469 [==============================] - 3s 7ms/step - loss: 0.3502 - accuracy: 0.9023 - val_loss: 0.1788 - val_accuracy: 0.9509\n",
      "Epoch 6/30\n",
      "469/469 [==============================] - 4s 8ms/step - loss: 0.3304 - accuracy: 0.9066 - val_loss: 0.1737 - val_accuracy: 0.9536\n",
      "Epoch 7/30\n",
      "469/469 [==============================] - 3s 7ms/step - loss: 0.3224 - accuracy: 0.9111 - val_loss: 0.1727 - val_accuracy: 0.9536\n",
      "Epoch 8/30\n",
      "469/469 [==============================] - 3s 7ms/step - loss: 0.3188 - accuracy: 0.9125 - val_loss: 0.1694 - val_accuracy: 0.9551\n",
      "Epoch 9/30\n",
      "469/469 [==============================] - 3s 7ms/step - loss: 0.3135 - accuracy: 0.9153 - val_loss: 0.1611 - val_accuracy: 0.9569\n",
      "Epoch 10/30\n",
      "469/469 [==============================] - 3s 6ms/step - loss: 0.3092 - accuracy: 0.9169 - val_loss: 0.1705 - val_accuracy: 0.9562\n",
      "Epoch 11/30\n",
      "469/469 [==============================] - 3s 6ms/step - loss: 0.3045 - accuracy: 0.9183 - val_loss: 0.1555 - val_accuracy: 0.9588\n",
      "Epoch 12/30\n",
      "469/469 [==============================] - 3s 6ms/step - loss: 0.3026 - accuracy: 0.9195 - val_loss: 0.1593 - val_accuracy: 0.9590\n",
      "Epoch 13/30\n",
      "469/469 [==============================] - 3s 6ms/step - loss: 0.2984 - accuracy: 0.9208 - val_loss: 0.1600 - val_accuracy: 0.9608\n",
      "Epoch 14/30\n",
      "469/469 [==============================] - 3s 7ms/step - loss: 0.2976 - accuracy: 0.9199 - val_loss: 0.1602 - val_accuracy: 0.9602\n",
      "Epoch 15/30\n",
      "469/469 [==============================] - 4s 8ms/step - loss: 0.2988 - accuracy: 0.9198 - val_loss: 0.1643 - val_accuracy: 0.9602\n",
      "Epoch 16/30\n",
      "469/469 [==============================] - 3s 6ms/step - loss: 0.2938 - accuracy: 0.9221 - val_loss: 0.1627 - val_accuracy: 0.9602\n",
      "Epoch 17/30\n",
      "469/469 [==============================] - 2s 4ms/step - loss: 0.2927 - accuracy: 0.9218 - val_loss: 0.1647 - val_accuracy: 0.9602\n",
      "Epoch 18/30\n",
      "469/469 [==============================] - 2s 3ms/step - loss: 0.2905 - accuracy: 0.9230 - val_loss: 0.1638 - val_accuracy: 0.9612\n",
      "Epoch 19/30\n",
      "469/469 [==============================] - 2s 5ms/step - loss: 0.2910 - accuracy: 0.9234 - val_loss: 0.1635 - val_accuracy: 0.9613\n",
      "Epoch 20/30\n",
      "469/469 [==============================] - 3s 6ms/step - loss: 0.2929 - accuracy: 0.9228 - val_loss: 0.1624 - val_accuracy: 0.9612\n",
      "Epoch 21/30\n",
      "469/469 [==============================] - 3s 7ms/step - loss: 0.2903 - accuracy: 0.9237 - val_loss: 0.1761 - val_accuracy: 0.9613\n",
      "Epoch 22/30\n",
      "469/469 [==============================] - 3s 6ms/step - loss: 0.2893 - accuracy: 0.9242 - val_loss: 0.1751 - val_accuracy: 0.9617\n",
      "Epoch 23/30\n",
      "469/469 [==============================] - 3s 7ms/step - loss: 0.2898 - accuracy: 0.9255 - val_loss: 0.1758 - val_accuracy: 0.9608\n",
      "Epoch 24/30\n",
      "469/469 [==============================] - 3s 6ms/step - loss: 0.2858 - accuracy: 0.9248 - val_loss: 0.1718 - val_accuracy: 0.9618\n",
      "Epoch 25/30\n",
      "469/469 [==============================] - 3s 6ms/step - loss: 0.2850 - accuracy: 0.9259 - val_loss: 0.1784 - val_accuracy: 0.9616\n",
      "Epoch 26/30\n",
      "469/469 [==============================] - 3s 7ms/step - loss: 0.2831 - accuracy: 0.9258 - val_loss: 0.1737 - val_accuracy: 0.9636\n",
      "Epoch 27/30\n",
      "469/469 [==============================] - 3s 6ms/step - loss: 0.2866 - accuracy: 0.9261 - val_loss: 0.1769 - val_accuracy: 0.9632\n",
      "Epoch 28/30\n",
      "469/469 [==============================] - 3s 6ms/step - loss: 0.2799 - accuracy: 0.9264 - val_loss: 0.1794 - val_accuracy: 0.9625\n",
      "Epoch 29/30\n",
      "469/469 [==============================] - 3s 7ms/step - loss: 0.2898 - accuracy: 0.9256 - val_loss: 0.1716 - val_accuracy: 0.9628\n",
      "Epoch 30/30\n",
      "469/469 [==============================] - 3s 7ms/step - loss: 0.2791 - accuracy: 0.9255 - val_loss: 0.1842 - val_accuracy: 0.9653\n"
     ]
    }
   ],
   "source": [
    "# Now let's fit (train model_1).\n",
    "\n",
    "batch_size = 128  # mini-batch with 128 examples\n",
    "epochs = 30\n",
    "history = model_1.fit(\n",
    "    x_train, y_train,\n",
    "    batch_size=batch_size,\n",
    "    epochs=epochs,\n",
    "    verbose=1,\n",
    "    validation_data=(x_test, y_test))"
   ]
  },
  {
   "cell_type": "code",
   "execution_count": 14,
   "metadata": {},
   "outputs": [
    {
     "name": "stdout",
     "output_type": "stream",
     "text": [
      "Test loss: 0.184169739484787\n",
      "Test accuracy: 0.9653000235557556\n"
     ]
    }
   ],
   "source": [
    "## We will use Keras evaluate function to evaluate performance on the test set\n",
    "\n",
    "score = model_1.evaluate(x_test, y_test, verbose=0)\n",
    "print('Test loss:', score[0])\n",
    "print('Test accuracy:', score[1])"
   ]
  },
  {
   "cell_type": "code",
   "execution_count": 15,
   "metadata": {},
   "outputs": [
    {
     "data": {
      "image/png": "[encoded data removed]",
      "text/plain": [
       "<Figure size 864x432 with 2 Axes>"
      ]
     },
     "metadata": {
      "needs_background": "light"
     },
     "output_type": "display_data"
    }
   ],
   "source": [
    "def plot_loss_accuracy(history):\n",
    "    fig = plt.figure(figsize=(12, 6))\n",
    "    ax = fig.add_subplot(1, 2, 1)\n",
    "    ax.plot(history.history[\"loss\"],'r-x', label=\"Train Loss\")\n",
    "    ax.plot(history.history[\"val_loss\"],'b-x', label=\"Validation Loss\")\n",
    "    ax.legend()\n",
    "    ax.set_title('cross_entropy loss')\n",
    "    ax.grid(True)\n",
    "\n",
    "    ax = fig.add_subplot(1, 2, 2)\n",
    "    ax.plot(history.history[\"accuracy\"],'r-x', label=\"Train Accuracy\")\n",
    "    ax.plot(history.history[\"val_accuracy\"],'b-x', label=\"Validation Accuracy\")\n",
    "    ax.legend()\n",
    "    ax.set_title('accuracy')\n",
    "    ax.grid(True)\n",
    "    \n",
    "plot_loss_accuracy(history)"
   ]
  },
  {
   "cell_type": "markdown",
   "metadata": {},
   "source": [
    "This is reasonably good performance, but we can do even better!  Next you will build an even bigger network and compare the performance."
   ]
  },
  {
   "cell_type": "markdown",
   "metadata": {},
   "source": [
    "### Keras Layers for CNNs\n",
    "- Previously we built a neural network using primarily the Dense, Activation and Dropout Layers.\n",
    "\n",
    "- Here we will describe how to use some of the CNN-specific layers provided by Keras\n",
    "\n",
    "#### Conv2D\n",
    "\n",
    "```python\n",
    "keras.layers.convolutional.Conv2D(filters, kernel_size, strides=(1, 1), padding='valid', data_format=None, dilation_rate=(1, 1), activation=None, use_bias=True, kernel_initializer='glorot_uniform', bias_initializer='zeros', kernel_regularizer=None, bias_regularizer=None, activity_regularizer=None, kernel_constraint=None, bias_constraint=None, **kwargs)\n",
    "```\n",
    "\n",
    "A few parameters explained below for your convenience (please do check the manual of Keras to understand the meaning of all the paramters)\n",
    "- `filters`: the number of filters,  in other words, the depth of the output.\n",
    "- `kernel_size`: an (H,W) tuple giving the height and width of the kernel (filter) to be used. It can also be an integer x which is equivalent to a tuple (x,x) \n",
    "- `strides`: and (x,y) tuple giving the stride in each dimension.  Default is `(1,1)`. It can also be an integer x which is equivalent to a tuple (x,x) \n",
    "- `input_shape`: required only for the first layer\n",
    "\n",
    "Note that the size of the output will be determined by the kernel_size and strides.\n",
    "\n",
    "#### MaxPooling2D\n",
    "`keras.layers.pooling.MaxPooling2D(pool_size=(2, 2), strides=None, padding='valid', data_format=None)`\n",
    "\n",
    "- `pool_size`: the (x,y) size of the grid to be pooled.\n",
    "- `strides`: Assumed to be the `pool_size` unless otherwise specified\n",
    "\n",
    "#### Flatten\n",
    "Turns its input into a one-dimensional vector (per instance).  Usually used when transitioning between convolutional layers and fully connected layers.\n"
   ]
  },
  {
   "cell_type": "markdown",
   "metadata": {},
   "source": [
    "# Your tasks for this project (three tasks, (1)-(3))\n",
    "\n",
    "\n",
    "### (1) Build your own CNN model (30pts)\n",
    "Use the Keras \"Sequential\" functionality to build a convolutional neural network named `model_2` with the following specifications:\n",
    "<br>\n",
    "<br>\n",
    "Model Architecture:<br>\n",
    "We will build model_2 according to the famous LeNet-5 architecutre below and measure its performance.\n",
    "<br>\n",
    "    Convolution -> Relu -> Max pooling -> Convolution -> Relu -> Max pooling -> FC1 -> Relu -> FC2 -> Relu -> Output(SoftMax)\n",
    "<br>\n",
    "\n",
    "1. Convolution1 kernel size: 5(H) x 5(W) x 6(filters), stride = 1, no padding\n",
    "2. Max pooling1 kernel size: 2(H) x 2(W), stride = 2\n",
    "3. Convolution2 kernel size: 5(H) x 5(W) x 16(filters), stride = 1, no padding\n",
    "4. Max pooling2 kernel size: 2(H) x 2(W), stride = 2\n",
    "5. Fully Connected1 size: 120\n",
    "6. Fully Connected2 size: 84\n",
    "7. Train this model for 20 epochs with RMSProp at a learning rate of .001 and a batch size of 128\n",
    "8. Plot the loss and accuracy graph for training the new model \n",
    "9. Evaluate the model on test data\n",
    "\n",
    "Please train the built model on the training data (x_train, y_train), and print the test loss and test accuracy of the trained model on the test data (x_test, y_test). Please call the given plot_loss_accuracy function on the history returned by model_2.fit to have the curves of loss and accuracy on the training data and the validation data during the training process of model_2. Note that the validation data is the same as the test data.\n",
    "\n",
    "Hints:\n",
    "<ul>\n",
    "  <li> You will need to have a Flatten layer to make the dimension of the Output be 10 (the number of classes). Check how to connect the output of convolution layer with the first fully connected layer.\n",
    "<li> You will not be graded on the accuracy of your model, but it should have a decent accuracy of at least 70%. Performance below 70% means there is something wrong with the implementation.\n",
    "<li> Do not use any padding or dropout in model_2. Such choices can be used for Project Bonus and Fashion MNIST.\n",
    "    </li></ul>"
   ]
  },
  {
   "cell_type": "markdown",
   "metadata": {},
   "source": [
    "To use the LeNet model, we need to do some preprocessing on the data first."
   ]
  },
  {
   "cell_type": "code",
   "execution_count": 16,
   "metadata": {},
   "outputs": [
    {
     "data": {
      "text/plain": [
       "((60000, 28, 28), (10000, 28, 28))"
      ]
     },
     "execution_count": 16,
     "metadata": {},
     "output_type": "execute_result"
    }
   ],
   "source": [
    "# Data is currently flattened, we need to reshape it back to 28 * 28. To do that we reshape the data.\n",
    "\n",
    "x_train = np.reshape(x_train, [-1, 28, 28])\n",
    "x_test = np.reshape(x_test, [-1, 28, 28])\n",
    "x_train.shape, x_test.shape"
   ]
  },
  {
   "cell_type": "code",
   "execution_count": 17,
   "metadata": {},
   "outputs": [
    {
     "data": {
      "text/plain": [
       "((60000, 32, 32), (10000, 32, 32))"
      ]
     },
     "execution_count": 17,
     "metadata": {},
     "output_type": "execute_result"
    }
   ],
   "source": [
    "# model_2 requires input of 32 X 32. So we will pad the train and test images with zeros to increase the size to 32 X 32.\n",
    "\n",
    "x_train=np.pad(x_train, ((0,0), (2,2), (2, 2)), 'constant')\n",
    "x_test=np.pad(x_test, ((0,0), (2,2), (2, 2)), 'constant')\n",
    "x_train.shape, x_test.shape"
   ]
  },
  {
   "cell_type": "code",
   "execution_count": 18,
   "metadata": {},
   "outputs": [
    {
     "data": {
      "text/plain": [
       "((60000, 32, 32, 1), (10000, 32, 32, 1))"
      ]
     },
     "execution_count": 18,
     "metadata": {},
     "output_type": "execute_result"
    }
   ],
   "source": [
    "# Convolutional model requires input to be of 3 dimensions. We will add a channel dimension to it.\n",
    "\n",
    "x_train = np.reshape(x_train, [-1, 32, 32, 1])\n",
    "x_test = np.reshape(x_test, [-1, 32, 32, 1])\n",
    "x_train.shape, x_test.shape"
   ]
  },
  {
   "cell_type": "markdown",
   "metadata": {},
   "source": [
    "### Write your code below for task (1)"
   ]
  },
  {
   "cell_type": "code",
   "execution_count": 19,
   "metadata": {},
   "outputs": [
    {
     "name": "stdout",
     "output_type": "stream",
     "text": [
      "Model: \"sequential_1\"\n",
      "_________________________________________________________________\n",
      " Layer (type)                Output Shape              Param #   \n",
      "=================================================================\n",
      " conv2d (Conv2D)             (None, 28, 28, 6)         156       \n",
      "                                                                 \n",
      " max_pooling2d (MaxPooling2D  (None, 14, 14, 6)        0         \n",
      " )                                                               \n",
      "                                                                 \n",
      " conv2d_1 (Conv2D)           (None, 10, 10, 16)        2416      \n",
      "                                                                 \n",
      " max_pooling2d_1 (MaxPooling  (None, 5, 5, 16)         0         \n",
      " 2D)                                                             \n",
      "                                                                 \n",
      " flatten (Flatten)           (None, 400)               0         \n",
      "                                                                 \n",
      " dense_3 (Dense)             (None, 120)               48120     \n",
      "                                                                 \n",
      " dense_4 (Dense)             (None, 84)                10164     \n",
      "                                                                 \n",
      " dense_5 (Dense)             (None, 10)                850       \n",
      "                                                                 \n",
      "=================================================================\n",
      "Total params: 61,706\n",
      "Trainable params: 61,706\n",
      "Non-trainable params: 0\n",
      "_________________________________________________________________\n",
      "Epoch 1/20\n"
     ]
    },
    {
     "name": "stderr",
     "output_type": "stream",
     "text": [
      "2022-05-02 22:42:07.696360: W tensorflow/core/framework/cpu_allocator_impl.cc:82] Allocation of 245760000 exceeds 10% of free system memory.\n"
     ]
    },
    {
     "name": "stdout",
     "output_type": "stream",
     "text": [
      "469/469 [==============================] - 14s 29ms/step - loss: 0.2732 - accuracy: 0.9176 - val_loss: 0.1112 - val_accuracy: 0.9653\n",
      "Epoch 2/20\n",
      "469/469 [==============================] - 13s 27ms/step - loss: 0.0787 - accuracy: 0.9751 - val_loss: 0.0618 - val_accuracy: 0.9806\n",
      "Epoch 3/20\n",
      "469/469 [==============================] - 14s 31ms/step - loss: 0.0530 - accuracy: 0.9836 - val_loss: 0.0512 - val_accuracy: 0.9827\n",
      "Epoch 4/20\n",
      "469/469 [==============================] - 12s 26ms/step - loss: 0.0412 - accuracy: 0.9873 - val_loss: 0.0492 - val_accuracy: 0.9854\n",
      "Epoch 5/20\n",
      "469/469 [==============================] - 15s 32ms/step - loss: 0.0337 - accuracy: 0.9894 - val_loss: 0.0328 - val_accuracy: 0.9883\n",
      "Epoch 6/20\n",
      "469/469 [==============================] - 15s 32ms/step - loss: 0.0271 - accuracy: 0.9913 - val_loss: 0.0366 - val_accuracy: 0.9878\n",
      "Epoch 7/20\n",
      "469/469 [==============================] - 14s 31ms/step - loss: 0.0229 - accuracy: 0.9926 - val_loss: 0.0298 - val_accuracy: 0.9907\n",
      "Epoch 8/20\n",
      "469/469 [==============================] - 14s 29ms/step - loss: 0.0188 - accuracy: 0.9939 - val_loss: 0.0336 - val_accuracy: 0.9900\n",
      "Epoch 9/20\n",
      "469/469 [==============================] - 12s 25ms/step - loss: 0.0161 - accuracy: 0.9946 - val_loss: 0.0302 - val_accuracy: 0.9901\n",
      "Epoch 10/20\n",
      "469/469 [==============================] - 13s 28ms/step - loss: 0.0141 - accuracy: 0.9954 - val_loss: 0.0372 - val_accuracy: 0.9898\n",
      "Epoch 11/20\n",
      "469/469 [==============================] - 13s 27ms/step - loss: 0.0120 - accuracy: 0.9962 - val_loss: 0.0311 - val_accuracy: 0.9909\n",
      "Epoch 12/20\n",
      "469/469 [==============================] - 14s 29ms/step - loss: 0.0112 - accuracy: 0.9966 - val_loss: 0.0410 - val_accuracy: 0.9876\n",
      "Epoch 13/20\n",
      "469/469 [==============================] - 19s 40ms/step - loss: 0.0087 - accuracy: 0.9974 - val_loss: 0.0342 - val_accuracy: 0.9912\n",
      "Epoch 14/20\n",
      "469/469 [==============================] - 26s 55ms/step - loss: 0.0081 - accuracy: 0.9974 - val_loss: 0.0404 - val_accuracy: 0.9891\n",
      "Epoch 15/20\n",
      "469/469 [==============================] - 25s 53ms/step - loss: 0.0066 - accuracy: 0.9979 - val_loss: 0.0440 - val_accuracy: 0.9893\n",
      "Epoch 16/20\n",
      "469/469 [==============================] - 24s 51ms/step - loss: 0.0068 - accuracy: 0.9977 - val_loss: 0.0380 - val_accuracy: 0.9898\n",
      "Epoch 17/20\n",
      "469/469 [==============================] - 24s 52ms/step - loss: 0.0062 - accuracy: 0.9982 - val_loss: 0.0467 - val_accuracy: 0.9893\n",
      "Epoch 18/20\n",
      "469/469 [==============================] - 24s 51ms/step - loss: 0.0053 - accuracy: 0.9986 - val_loss: 0.0473 - val_accuracy: 0.9896\n",
      "Epoch 19/20\n",
      "469/469 [==============================] - 25s 54ms/step - loss: 0.0049 - accuracy: 0.9984 - val_loss: 0.0479 - val_accuracy: 0.9912\n",
      "Epoch 20/20\n",
      "469/469 [==============================] - 27s 59ms/step - loss: 0.0054 - accuracy: 0.9984 - val_loss: 0.0436 - val_accuracy: 0.9912\n"
     ]
    },
    {
     "data": {
      "image/png": "[encoded data removed]",
      "text/plain": [
       "<Figure size 864x432 with 2 Axes>"
      ]
     },
     "metadata": {
      "needs_background": "light"
     },
     "output_type": "display_data"
    }
   ],
   "source": [
    "model_2 = Sequential()\n",
    "model_2.add(Conv2D(filters=6, kernel_size=(5, 5), strides=1, padding=\"valid\", activation=\"relu\", input_shape=(32,32,1)))\n",
    "model_2.add(MaxPooling2D(pool_size=(2, 2), strides=2, padding=\"valid\"))\n",
    "model_2.add(Conv2D(filters=16, kernel_size=(5, 5), strides=1, padding=\"valid\", activation=\"relu\"))\n",
    "model_2.add(MaxPooling2D(pool_size=(2, 2), strides=2, padding=\"valid\"))\n",
    "model_2.add(Flatten())\n",
    "model_2.add(Dense(units=120, activation='relu'))\n",
    "model_2.add(Dense(units=84, activation='relu'))\n",
    "model_2.add(Dense(units=10, activation = 'softmax'))\n",
    "model_2.summary()\n",
    "\n",
    "learning_rate = .001\n",
    "model_2.compile(loss='categorical_crossentropy',\n",
    "              optimizer=RMSprop(lr=learning_rate),\n",
    "              metrics=['accuracy'])\n",
    "\n",
    "batch_size = 128  # mini-batch with 128 examples\n",
    "epochs = 20\n",
    "history = model_2.fit(\n",
    "    x_train, y_train,\n",
    "    batch_size=batch_size,\n",
    "    epochs=epochs,\n",
    "    verbose=1,\n",
    "    validation_data=(x_test, y_test))\n",
    "            \n",
    "plot_loss_accuracy(history)"
   ]
  },
  {
   "cell_type": "markdown",
   "metadata": {
    "collapsed": true
   },
   "source": [
    "### (2) Answer the following question (20pts)\n",
    "\n",
    "Compare the curves of the loss and accuracy on the training data and the validation (test) data for model_1 and model_2. Please write down your observations. For example, (1) which model has higher validation (test) loss?  (2) which model has higher validation (test) accuracy? (3) Do (1)-(2) for the training loss and the training accuracy; (4) Which measure do you think is more meaningful, the loss or the accuracy?"
   ]
  },
  {
   "cell_type": "code",
   "execution_count": 20,
   "metadata": {},
   "outputs": [
    {
     "data": {
      "text/plain": [
       "'\\n1) model_2 had higher validation/test loss than model_1\\n2) model_2 had higher validation/test accuracy than model_1\\n3) model_1 had higher train loss than model_2\\n   model_2 had higher train accuracy than model_1\\n\\n4) The most meaningful measure is accuracy.\\n'"
      ]
     },
     "execution_count": 20,
     "metadata": {},
     "output_type": "execute_result"
    }
   ],
   "source": [
    "\"\"\"\n",
    "1) model_2 had higher validation/test loss than model_1\n",
    "2) model_2 had higher validation/test accuracy than model_1\n",
    "3) model_1 had higher train loss than model_2\n",
    "   model_2 had higher train accuracy than model_1\n",
    "\n",
    "4) The most meaningful measure is accuracy.\n",
    "\"\"\"\n"
   ]
  },
  {
   "cell_type": "markdown",
   "metadata": {},
   "source": [
    "### We will perform similar tasks for Fashion MNIST dataset. \n",
    "\n",
    "Fashion MNIST has 10 categories of clothing items:<br>\n",
    "\n",
    "| Label | Description | \n",
    "| --- | --- | \n",
    "| 0 | T-shirt/top |\n",
    "| 1 | Trouser |\n",
    "| 2 | Pullover |\n",
    "| 3 | Dress |\n",
    "| 4 | Coat |\n",
    "| 5 | Sandal |\n",
    "| 6 | Shirt |\n",
    "| 7 | Sneaker |\n",
    "| 8 | Bag |\n",
    "| 9 | Ankle boot |"
   ]
  },
  {
   "cell_type": "code",
   "execution_count": 21,
   "metadata": {},
   "outputs": [],
   "source": [
    "from __future__ import print_function\n",
    "\n",
    "import keras\n",
    "import tensorflow as tensorflow\n",
    "from keras.datasets import mnist\n",
    "from keras.models import Sequential\n",
    "from keras.layers import Dense, Dropout, Conv2D, MaxPooling2D, Flatten\n",
    "from tensorflow.keras.optimizers import RMSprop\n",
    "from keras.datasets import fashion_mnist\n",
    "\n",
    "import numpy as np\n",
    "import matplotlib.pyplot as plt\n",
    "%matplotlib inline\n",
    "\n",
    "# Load the data, shuffled and split between train and test sets\n",
    "(x_train, y_train), (x_test, y_test) = fashion_mnist.load_data()"
   ]
  },
  {
   "cell_type": "code",
   "execution_count": 22,
   "metadata": {},
   "outputs": [
    {
     "data": {
      "text/plain": [
       "(28, 28)"
      ]
     },
     "execution_count": 22,
     "metadata": {},
     "output_type": "execute_result"
    }
   ],
   "source": [
    "x_train[0].shape"
   ]
  },
  {
   "cell_type": "code",
   "execution_count": 23,
   "metadata": {},
   "outputs": [
    {
     "data": {
      "text/plain": [
       "array([[  0,   0,   0,   0,   0,   0,   0,   0,   0,   0,   0,   3,   0,\n",
       "         42,  92,  71, 107,  33,   0,   3,   0,   1,   0,   0,   0,   0,\n",
       "          0,   0],\n",
       "       [  0,   0,   0,   0,   0,   0,   0,   0,   0,   0,   2,   0,  23,\n",
       "        145,   0,   0,   0, 113,  20,   0,   3,   0,   0,   0,   0,   0,\n",
       "          0,   0],\n",
       "       [  0,   0,   0,   0,   0,   0,   0,   0,   0,   0,   0,   0,  89,\n",
       "          8,   0,  10,   0,  36, 104,   0,   2,   0,   0,   0,   0,   0,\n",
       "          0,   0],\n",
       "       [  0,   0,   0,   0,   0,   0,   0,   0,   0,   3,   0,  37,  97,\n",
       "          0,   5,   1,   0,   0, 141,  23,   0,   2,   0,   0,   0,   0,\n",
       "          0,   0],\n",
       "       [  0,   0,   0,   0,   0,   0,   0,   0,   0,   5,   0,  70,  75,\n",
       "          0,   6,   1,   0,   0, 141,  56,   0,   5,   0,   0,   0,   0,\n",
       "          0,   0],\n",
       "       [  0,   0,   0,   0,   0,   0,   0,   0,   0,   6,   0,  85,  57,\n",
       "          0,   5,   1,   1,   0, 126,  62,   0,   6,   0,   0,   0,   0,\n",
       "          0,   0],\n",
       "       [  0,   0,   0,   0,   0,   0,   0,   0,   0,   6,   0,  85,  44,\n",
       "          0,   3,   0,   4,   0, 109,  66,   0,   6,   0,   0,   0,   0,\n",
       "          0,   0],\n",
       "       [  0,   0,   0,   0,   0,   0,   0,   0,   0,   6,   0,  75,  41,\n",
       "          0,   3,   0,   5,   0,  89,  68,   0,   6,   0,   0,   0,   0,\n",
       "          0,   0],\n",
       "       [  0,   0,   0,   0,   0,   0,   0,   0,   0,   5,   0,  71,  44,\n",
       "          0,   3,   0,   6,   0,  74,  69,   0,   6,   0,   0,   0,   0,\n",
       "          0,   0],\n",
       "       [  0,   0,   0,   0,   0,   0,   0,   0,   0,   4,   0,  80,  68,\n",
       "          0,   4,   0,   5,   0,  89,  85,   0,   6,   0,   0,   0,   0,\n",
       "          0,   0],\n",
       "       [  0,   0,   0,   0,   0,   0,   0,   2,   3,   8,   0,  74,  89,\n",
       "          0,  10,   3,  10,   0,  98,  84,   0,  10,   4,   3,   0,   0,\n",
       "          0,   0],\n",
       "       [  0,   0,   0,   0,   0,   0,   0,   0,   0,   0,   0,  30,  80,\n",
       "          0,   0,   0,   0,   0,  69,  37,   0,   0,   0,   0,   0,   0,\n",
       "          0,   0],\n",
       "       [  0,   0,   0,   0,   0,   2,   0,  80, 117, 118,  92, 125, 144,\n",
       "        109, 141, 126, 132, 115, 151, 141, 130, 142, 150,  57,   0,   0,\n",
       "          0,   0],\n",
       "       [  0,   0,   0,   0,   0,   0,   0,  81, 162, 158, 153, 165, 192,\n",
       "        182, 196, 187, 172, 183, 203, 206, 195, 188, 200, 140,   0,   0,\n",
       "          0,   0],\n",
       "       [  0,   0,   0,   0,   0,   0,   0, 114, 158, 169, 164, 164, 196,\n",
       "        183, 177, 168, 163, 174, 195, 198, 195, 174, 170, 142,   0,   0,\n",
       "          0,   0],\n",
       "       [  0,   0,   0,   0,   0,   0,   0, 186, 166, 161, 180, 183, 214,\n",
       "        181, 158, 163, 181, 186, 197, 186, 184, 193, 197,  86,   0,   0,\n",
       "          0,   0],\n",
       "       [  0,   0,   0,   0,   0,   0,   0, 162, 195, 185, 182, 186, 186,\n",
       "        186, 193, 194, 194, 196, 195, 195, 192, 184, 215, 161,   0,   0,\n",
       "          0,   0],\n",
       "       [  0,   0,   0,   0,   0,   0,   0, 165, 233, 219, 230, 235, 230,\n",
       "        228, 229, 229, 221, 218, 217, 215, 212, 204, 221, 160,   0,   0,\n",
       "          0,   0],\n",
       "       [  0,   0,   0,   0,   0,   0, 134, 202, 221, 218, 220, 224, 222,\n",
       "        220, 219, 221, 219, 213, 213, 208, 208, 199, 220, 142,   0,   0,\n",
       "          0,   0],\n",
       "       [  0,   0,   0,   0,   0,  92, 213, 205, 233, 217, 226, 225, 226,\n",
       "        222, 220, 219, 219, 217, 214, 212, 209, 195, 231, 126,   0,   0,\n",
       "          0,   0],\n",
       "       [  0,   0,   0,   0,   0, 120,   0, 187, 247, 221, 224, 225, 222,\n",
       "        218, 219, 219, 219, 216, 214, 212, 210, 197, 246, 130,   0,   0,\n",
       "          0,   0],\n",
       "       [  0,   0,   0,   0,   0,   0,   0, 206, 243, 231, 228, 230, 228,\n",
       "        225, 226, 225, 222, 217, 215, 215, 211, 212, 255, 126,   0,   0,\n",
       "          0,   0],\n",
       "       [  0,   0,   0,   0,   0,  68,   0, 149, 244, 227, 229, 235, 229,\n",
       "        228, 227, 216, 212, 211, 211, 211, 209, 214, 233, 120,   0,   0,\n",
       "          0,   0],\n",
       "       [  0,   0,   0,   0,   0, 117, 124, 151, 242, 232, 238, 237, 232,\n",
       "        230, 226, 216, 213, 215, 211, 208, 206, 214, 232, 114,   0,   0,\n",
       "          0,   0],\n",
       "       [  0,   0,   0,   0,   0,   0, 138, 225, 213, 218, 231, 234, 234,\n",
       "        237, 227, 199, 204, 213, 208, 204, 203, 214, 231, 112,   0,   0,\n",
       "          0,   0],\n",
       "       [  0,   0,   0,   0,   0,   0,  19, 222, 218, 214, 206, 208, 220,\n",
       "        228, 224, 222, 224, 220, 220, 220, 221, 226, 237, 132,   0,   0,\n",
       "          0,   0],\n",
       "       [  0,   0,   0,   0,   0,   0,  56, 211, 230, 229, 227, 197, 173,\n",
       "        193, 240,  50,  50,  58,  55,  56,  59,  57,  70,  11,   0,   0,\n",
       "          0,   0],\n",
       "       [  0,   0,   0,   0,   0,   0,   0,   0,  94, 157, 193, 222, 219,\n",
       "        205, 140,   0,   0,   0,   0,   0,   0,   0,   0,   0,   0,   0,\n",
       "          0,   0]], dtype=uint8)"
      ]
     },
     "execution_count": 23,
     "metadata": {},
     "output_type": "execute_result"
    }
   ],
   "source": [
    "#Let's just look at a particular example to see what is inside\n",
    "\n",
    "x_train[333]  ## Just a 28 x 28 numpy array of ints from 0 to 255"
   ]
  },
  {
   "cell_type": "code",
   "execution_count": 24,
   "metadata": {},
   "outputs": [
    {
     "data": {
      "text/plain": [
       "8"
      ]
     },
     "execution_count": 24,
     "metadata": {},
     "output_type": "execute_result"
    }
   ],
   "source": [
    "# What is the corresponding label in the training set?\n",
    "y_train[333]"
   ]
  },
  {
   "cell_type": "code",
   "execution_count": 25,
   "metadata": {},
   "outputs": [
    {
     "data": {
      "text/plain": [
       "<matplotlib.image.AxesImage at 0x7f20f3773f40>"
      ]
     },
     "execution_count": 25,
     "metadata": {},
     "output_type": "execute_result"
    },
    {
     "data": {
      "image/png": "[encoded data removed]",
      "text/plain": [
       "<Figure size 432x288 with 1 Axes>"
      ]
     },
     "metadata": {
      "needs_background": "light"
     },
     "output_type": "display_data"
    }
   ],
   "source": [
    "# Let's see what this image actually looks like\n",
    "\n",
    "plt.imshow(x_train[333], cmap='Greys_r')"
   ]
  },
  {
   "cell_type": "code",
   "execution_count": 26,
   "metadata": {},
   "outputs": [
    {
     "name": "stdout",
     "output_type": "stream",
     "text": [
      "(60000, 28, 28) train samples\n",
      "(10000, 28, 28) test samples\n"
     ]
    }
   ],
   "source": [
    "# this is the shape of the np.array x_train\n",
    "# it is 3 dimensional.\n",
    "print(x_train.shape, 'train samples')\n",
    "print(x_test.shape, 'test samples')"
   ]
  },
  {
   "cell_type": "code",
   "execution_count": 27,
   "metadata": {},
   "outputs": [],
   "source": [
    "## For our purposes, these images are just a vector of 784 inputs, so let's convert\n",
    "x_train = x_train.reshape(len(x_train), 28*28)\n",
    "x_test = x_test.reshape(len(x_test), 28*28)\n",
    "\n",
    "## Keras works with floats, so we must cast the numbers to floats\n",
    "x_train = x_train.astype('float32')\n",
    "x_test = x_test.astype('float32')\n",
    "\n",
    "## Normalize the inputs so they are between 0 and 1\n",
    "x_train /= 255\n",
    "x_test /= 255"
   ]
  },
  {
   "cell_type": "code",
   "execution_count": 28,
   "metadata": {},
   "outputs": [
    {
     "data": {
      "text/plain": [
       "array([0., 0., 0., 0., 0., 0., 0., 0., 1., 0.], dtype=float32)"
      ]
     },
     "execution_count": 28,
     "metadata": {},
     "output_type": "execute_result"
    }
   ],
   "source": [
    "# convert class vectors to binary class matrices\n",
    "num_classes = 10\n",
    "y_train = tensorflow.keras.utils.to_categorical(y_train, num_classes)\n",
    "y_test = tensorflow.keras.utils.to_categorical(y_test, num_classes)\n",
    "\n",
    "y_train[333]  "
   ]
  },
  {
   "cell_type": "markdown",
   "metadata": {},
   "source": [
    "Reperforming the earlier preprocessing methods"
   ]
  },
  {
   "cell_type": "code",
   "execution_count": 29,
   "metadata": {},
   "outputs": [
    {
     "data": {
      "text/plain": [
       "((60000, 28, 28), (10000, 28, 28))"
      ]
     },
     "execution_count": 29,
     "metadata": {},
     "output_type": "execute_result"
    }
   ],
   "source": [
    "# Data is currently flattened, we need to reshape it back to 28 * 28. To do that we reshape the data.\n",
    "\n",
    "x_train = np.reshape(x_train, [-1, 28, 28])\n",
    "x_test = np.reshape(x_test, [-1, 28, 28])\n",
    "x_train.shape, x_test.shape"
   ]
  },
  {
   "cell_type": "code",
   "execution_count": 30,
   "metadata": {},
   "outputs": [
    {
     "data": {
      "text/plain": [
       "((60000, 32, 32), (10000, 32, 32))"
      ]
     },
     "execution_count": 30,
     "metadata": {},
     "output_type": "execute_result"
    }
   ],
   "source": [
    "# LeNet requires input of 32 X 32. So we will pad the train and test images with zeros to increase the size to 32 X 32.\n",
    "\n",
    "x_train=np.pad(x_train, ((0,0), (2,2), (2, 2)), 'constant')\n",
    "x_test=np.pad(x_test, ((0,0), (2,2), (2, 2)), 'constant')\n",
    "x_train.shape, x_test.shape"
   ]
  },
  {
   "cell_type": "code",
   "execution_count": 31,
   "metadata": {},
   "outputs": [
    {
     "data": {
      "text/plain": [
       "((60000, 32, 32, 1), (10000, 32, 32, 1))"
      ]
     },
     "execution_count": 31,
     "metadata": {},
     "output_type": "execute_result"
    }
   ],
   "source": [
    "# Convolutional model requires input to be of 3 dimensions. We will add a channel dimension to it.\n",
    "\n",
    "x_train = np.reshape(x_train, [-1, 32, 32, 1])\n",
    "x_test = np.reshape(x_test, [-1, 32, 32, 1])\n",
    "x_train.shape, x_test.shape"
   ]
  },
  {
   "cell_type": "markdown",
   "metadata": {},
   "source": [
    "### (3) Training on Fashion MNIST (50pts)\n",
    "\n",
    "Build a convolutional neural network of your choice. You can freely choose a differnet network structure, learning rate or number of epochs, which (you believe) will lead to a good model for this data set. Report the accuracy of your model on the test data (x_test,y_test)."
   ]
  },
  {
   "cell_type": "code",
   "execution_count": 32,
   "metadata": {},
   "outputs": [],
   "source": [
    "def plot_loss_accuracy(history):\n",
    "    fig = plt.figure(figsize=(12, 6))\n",
    "    ax = fig.add_subplot(1, 2, 1)\n",
    "    ax.plot(history.history[\"loss\"],'r-x', label=\"Train Loss\")\n",
    "    ax.plot(history.history[\"val_loss\"],'b-x', label=\"Validation Loss\")\n",
    "    ax.legend()\n",
    "    ax.set_title('cross_entropy loss')\n",
    "    ax.grid(True)\n",
    "\n",
    "    ax = fig.add_subplot(1, 2, 2)\n",
    "    ax.plot(history.history[\"accuracy\"],'r-x', label=\"Train Accuracy\")\n",
    "    ax.plot(history.history[\"val_accuracy\"],'b-x', label=\"Validation Accuracy\")\n",
    "    ax.legend()\n",
    "    ax.set_title('accuracy')\n",
    "    ax.grid(True)"
   ]
  },
  {
   "cell_type": "markdown",
   "metadata": {},
   "source": [
    "### Write your code below for task (3)"
   ]
  },
  {
   "cell_type": "code",
   "execution_count": 33,
   "metadata": {
    "scrolled": false
   },
   "outputs": [
    {
     "name": "stdout",
     "output_type": "stream",
     "text": [
      "Model: \"sequential_2\"\n",
      "_________________________________________________________________\n",
      " Layer (type)                Output Shape              Param #   \n",
      "=================================================================\n",
      " conv2d_2 (Conv2D)           (None, 28, 28, 6)         156       \n",
      "                                                                 \n",
      " max_pooling2d_2 (MaxPooling  (None, 14, 14, 6)        0         \n",
      " 2D)                                                             \n",
      "                                                                 \n",
      " conv2d_3 (Conv2D)           (None, 10, 10, 10)        1510      \n",
      "                                                                 \n",
      " max_pooling2d_3 (MaxPooling  (None, 5, 5, 10)         0         \n",
      " 2D)                                                             \n",
      "                                                                 \n",
      " flatten_1 (Flatten)         (None, 250)               0         \n",
      "                                                                 \n",
      " dense_6 (Dense)             (None, 120)               30120     \n",
      "                                                                 \n",
      " dense_7 (Dense)             (None, 50)                6050      \n",
      "                                                                 \n",
      " dense_8 (Dense)             (None, 10)                510       \n",
      "                                                                 \n",
      "=================================================================\n",
      "Total params: 38,346\n",
      "Trainable params: 38,346\n",
      "Non-trainable params: 0\n",
      "_________________________________________________________________\n",
      "Epoch 1/30\n"
     ]
    },
    {
     "name": "stderr",
     "output_type": "stream",
     "text": [
      "2022-05-02 22:48:08.804878: W tensorflow/core/framework/cpu_allocator_impl.cc:82] Allocation of 245760000 exceeds 10% of free system memory.\n"
     ]
    },
    {
     "name": "stdout",
     "output_type": "stream",
     "text": [
      "469/469 [==============================] - 26s 53ms/step - loss: 0.6772 - accuracy: 0.7425 - val_loss: 0.4834 - val_accuracy: 0.8292\n",
      "Epoch 2/30\n",
      "469/469 [==============================] - 27s 57ms/step - loss: 0.4337 - accuracy: 0.8416 - val_loss: 0.4052 - val_accuracy: 0.8491\n",
      "Epoch 3/30\n",
      "469/469 [==============================] - 24s 51ms/step - loss: 0.3683 - accuracy: 0.8659 - val_loss: 0.3894 - val_accuracy: 0.8616\n",
      "Epoch 4/30\n",
      "469/469 [==============================] - 24s 52ms/step - loss: 0.3343 - accuracy: 0.8766 - val_loss: 0.3524 - val_accuracy: 0.8724\n",
      "Epoch 5/30\n",
      "469/469 [==============================] - 14s 30ms/step - loss: 0.3101 - accuracy: 0.8853 - val_loss: 0.3330 - val_accuracy: 0.8789\n",
      "Epoch 6/30\n",
      "469/469 [==============================] - 13s 27ms/step - loss: 0.2908 - accuracy: 0.8929 - val_loss: 0.3347 - val_accuracy: 0.8789\n",
      "Epoch 7/30\n",
      "469/469 [==============================] - 13s 27ms/step - loss: 0.2760 - accuracy: 0.8984 - val_loss: 0.3183 - val_accuracy: 0.8858\n",
      "Epoch 8/30\n",
      "469/469 [==============================] - 13s 28ms/step - loss: 0.2628 - accuracy: 0.9034 - val_loss: 0.3040 - val_accuracy: 0.8945\n",
      "Epoch 9/30\n",
      "469/469 [==============================] - 13s 27ms/step - loss: 0.2523 - accuracy: 0.9064 - val_loss: 0.3483 - val_accuracy: 0.8716\n",
      "Epoch 10/30\n",
      "469/469 [==============================] - 13s 28ms/step - loss: 0.2410 - accuracy: 0.9105 - val_loss: 0.3216 - val_accuracy: 0.8861\n",
      "Epoch 11/30\n",
      "469/469 [==============================] - 13s 28ms/step - loss: 0.2334 - accuracy: 0.9138 - val_loss: 0.3119 - val_accuracy: 0.8902\n",
      "Epoch 12/30\n",
      "469/469 [==============================] - 15s 31ms/step - loss: 0.2229 - accuracy: 0.9173 - val_loss: 0.3158 - val_accuracy: 0.8863\n",
      "Epoch 13/30\n",
      "469/469 [==============================] - 12s 26ms/step - loss: 0.2158 - accuracy: 0.9194 - val_loss: 0.2912 - val_accuracy: 0.8946\n",
      "Epoch 14/30\n",
      "469/469 [==============================] - 12s 27ms/step - loss: 0.2079 - accuracy: 0.9238 - val_loss: 0.3015 - val_accuracy: 0.8963\n",
      "Epoch 15/30\n",
      "469/469 [==============================] - 12s 26ms/step - loss: 0.2019 - accuracy: 0.9247 - val_loss: 0.3014 - val_accuracy: 0.8979\n",
      "Epoch 16/30\n",
      "469/469 [==============================] - 11s 24ms/step - loss: 0.1945 - accuracy: 0.9276 - val_loss: 0.3277 - val_accuracy: 0.8878\n",
      "Epoch 17/30\n",
      "469/469 [==============================] - 12s 25ms/step - loss: 0.1886 - accuracy: 0.9300 - val_loss: 0.3172 - val_accuracy: 0.8942\n",
      "Epoch 18/30\n",
      "469/469 [==============================] - 13s 27ms/step - loss: 0.1832 - accuracy: 0.9309 - val_loss: 0.3112 - val_accuracy: 0.8949\n",
      "Epoch 19/30\n",
      "469/469 [==============================] - 11s 24ms/step - loss: 0.1757 - accuracy: 0.9344 - val_loss: 0.3383 - val_accuracy: 0.8953\n",
      "Epoch 20/30\n",
      "469/469 [==============================] - 12s 25ms/step - loss: 0.1708 - accuracy: 0.9353 - val_loss: 0.3092 - val_accuracy: 0.8981\n",
      "Epoch 21/30\n",
      "469/469 [==============================] - 13s 27ms/step - loss: 0.1665 - accuracy: 0.9370 - val_loss: 0.3448 - val_accuracy: 0.8913\n",
      "Epoch 22/30\n",
      "469/469 [==============================] - 12s 26ms/step - loss: 0.1627 - accuracy: 0.9392 - val_loss: 0.3298 - val_accuracy: 0.8969\n",
      "Epoch 23/30\n",
      "469/469 [==============================] - 12s 25ms/step - loss: 0.1555 - accuracy: 0.9421 - val_loss: 0.3345 - val_accuracy: 0.8998\n",
      "Epoch 24/30\n",
      "469/469 [==============================] - 11s 24ms/step - loss: 0.1524 - accuracy: 0.9425 - val_loss: 0.3699 - val_accuracy: 0.8913\n",
      "Epoch 25/30\n",
      "469/469 [==============================] - 12s 26ms/step - loss: 0.1476 - accuracy: 0.9449 - val_loss: 0.3719 - val_accuracy: 0.8934\n",
      "Epoch 26/30\n",
      "469/469 [==============================] - 11s 24ms/step - loss: 0.1436 - accuracy: 0.9456 - val_loss: 0.3356 - val_accuracy: 0.8991\n",
      "Epoch 27/30\n",
      "469/469 [==============================] - 12s 25ms/step - loss: 0.1392 - accuracy: 0.9477 - val_loss: 0.3600 - val_accuracy: 0.8993\n",
      "Epoch 28/30\n",
      "469/469 [==============================] - 12s 25ms/step - loss: 0.1336 - accuracy: 0.9500 - val_loss: 0.3643 - val_accuracy: 0.9025\n",
      "Epoch 29/30\n",
      "469/469 [==============================] - 12s 25ms/step - loss: 0.1293 - accuracy: 0.9511 - val_loss: 0.3796 - val_accuracy: 0.8905\n",
      "Epoch 30/30\n",
      "469/469 [==============================] - 12s 26ms/step - loss: 0.1264 - accuracy: 0.9524 - val_loss: 0.4231 - val_accuracy: 0.8858\n"
     ]
    },
    {
     "data": {
      "image/png": "[encoded data removed]",
      "text/plain": [
       "<Figure size 864x432 with 2 Axes>"
      ]
     },
     "metadata": {
      "needs_background": "light"
     },
     "output_type": "display_data"
    }
   ],
   "source": [
    "model_3 = Sequential()\n",
    "model_3.add(Conv2D(filters=6, kernel_size=(5, 5), strides=1, padding=\"valid\", activation=\"relu\", input_shape=(32,32,1)))\n",
    "model_3.add(MaxPooling2D(pool_size=(2, 2), strides=2, padding=\"valid\"))\n",
    "model_3.add(Conv2D(filters=10, kernel_size=(5, 5), strides=1, padding=\"valid\", activation=\"relu\"))\n",
    "model_3.add(MaxPooling2D(pool_size=(2, 2), strides=2, padding=\"valid\"))\n",
    "model_3.add(Flatten())\n",
    "model_3.add(Dense(units=120, activation='relu'))\n",
    "model_3.add(Dense(units=50, activation='relu'))\n",
    "model_3.add(Dense(units=10, activation = 'softmax'))\n",
    "model_3.summary()\n",
    "\n",
    "learning_rate = .0011\n",
    "model_3.compile(loss='categorical_crossentropy',\n",
    "              optimizer=RMSprop(lr=learning_rate),\n",
    "              metrics=['accuracy'])\n",
    "\n",
    "batch_size = 128  # mini-batch with 128 examples\n",
    "epochs = 30\n",
    "history = model_3.fit(\n",
    "    x_train, y_train,\n",
    "    batch_size=batch_size,\n",
    "    epochs=epochs,\n",
    "    verbose=1,\n",
    "    validation_data=(x_test, y_test))\n",
    "            \n",
    "plot_loss_accuracy(history)"
   ]
  },
  {
   "cell_type": "code",
   "execution_count": null,
   "metadata": {
    "scrolled": true
   },
   "outputs": [],
   "source": [
    "\n"
   ]
  },
  {
   "cell_type": "code",
   "execution_count": null,
   "metadata": {},
   "outputs": [],
   "source": []
  }
 ],
 "metadata": {
  "kernelspec": {
   "display_name": "Python 3 (ipykernel)",
   "language": "python",
   "name": "python3"
  },
  "language_info": {
   "codemirror_mode": {
    "name": "ipython",
    "version": 3
   },
   "file_extension": ".py",
   "mimetype": "text/x-python",
   "name": "python",
   "nbconvert_exporter": "python",
   "pygments_lexer": "ipython3",
   "version": "3.10.2"
  }
 },
 "nbformat": 4,
 "nbformat_minor": 1
}
